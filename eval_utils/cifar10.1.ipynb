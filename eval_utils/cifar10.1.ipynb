{
 "cells": [
  {
   "cell_type": "code",
   "execution_count": 1,
   "metadata": {},
   "outputs": [],
   "source": [
    "import numpy as np\n",
    "import pandas as pd\n",
    "import torch\n",
    "import os\n",
    "import sys\n",
    "from torch.utils import data\n",
    "from sklearn.metrics import confusion_matrix as cm\n",
    "import seaborn as sns\n",
    "import matplotlib.pyplot as plt\n",
    "from tqdm import tqdm\n",
    "\n",
    "sys.path.append('../')\n",
    "\n",
    "from utils import utils, model_fetch\n",
    "\n",
    "metrics_dict = {}\n",
    "\n",
    "\n",
    "%load_ext autoreload\n",
    "%autoreload 2\n",
    "%matplotlib inline"
   ]
  },
  {
   "cell_type": "code",
   "execution_count": 27,
   "metadata": {},
   "outputs": [
    {
     "name": "stdout",
     "output_type": "stream",
     "text": [
      "=> Loading Checkpoint '../distillation_experiments/runs/lenet-student-cutout_1587345858/model_best.pth.tar'\n",
      "========================================================\n",
      "Loaded checkpoint '../distillation_experiments/runs/lenet-student-cutout_1587345858/model_best.pth.tar' (epoch 60)\n",
      "Current Loss :  1.0629366817353647\n",
      "========================================================\n"
     ]
    },
    {
     "data": {
      "text/plain": [
       "LeNet(\n",
       "  (conv1): Conv2d(3, 6, kernel_size=(5, 5), stride=(1, 1))\n",
       "  (conv2): Conv2d(6, 16, kernel_size=(5, 5), stride=(1, 1))\n",
       "  (fc1): Linear(in_features=400, out_features=120, bias=True)\n",
       "  (fc2): Linear(in_features=120, out_features=84, bias=True)\n",
       "  (fc3): Linear(in_features=84, out_features=10, bias=True)\n",
       "  (linear): Identity()\n",
       ")"
      ]
     },
     "execution_count": 27,
     "metadata": {},
     "output_type": "execute_result"
    }
   ],
   "source": [
    "# Which model to evaluate\n",
    "\n",
    "\n",
    "####### Change This #######\n",
    "model_of_interest = \"cutout\"\n",
    "###########################\n",
    "_CLASSES = ['plane', 'car', 'bird', 'cat',\n",
    "            'deer', 'dog', 'frog', 'horse', 'ship', 'truck']\n",
    "\n",
    "base_path = '../distillation_experiments/runs/'\n",
    "\n",
    "MODEL_DIRS = {\n",
    "    \"baseline_teacher\": base_path + 'resnet18_baseline_retrained_1586751743/model_best.pth.tar',\n",
    "    \"mixup_teacher\": base_path + 'resnet18_mixup_retrained_1586457991/checkpoint.pth.tar',\n",
    "    \"cutout_teacher\": base_path + 'resnet18-cutout-restart-again_1586956477/model_best.pth.tar',\n",
    "    \"cutmix_teacher\": base_path + 'resnet18_cutmix_retrained_1587147326-20200423T211700Z-001/model_best.pth.tar',\n",
    "    \"augmented_teacher\": base_path + 'resnet18_augmented_retrained_1586751381/checkpoint.pth.tar',\n",
    "    \n",
    "    \"baseline\": base_path + 'student_baseline_retrained_temp20_gamma0.5_1587170761/checkpoint.pth.tar', \n",
    "    \"mixup\" : base_path + 'student_mixup_retrained_temp20_gamma0.5_1587170205/model_best.pth.tar',\n",
    "    \"cutout\": base_path + 'lenet-student-cutout_1587345858/model_best.pth.tar',\n",
    "    \"cutmix\": base_path + 'student_cutmix_temp20_gamma0.5_1587176582/model_best.pth.tar',\n",
    "    \"augmented\": base_path + ''\n",
    "}\n",
    "if 'teacher' in model_of_interest:\n",
    "    model = model_fetch.fetch_student('resnet18')\n",
    "else:\n",
    "    model = model_fetch.fetch_student('lenet')\n",
    "\n",
    "_, _ = utils.load_checkpoint(model, resume_filename=MODEL_DIRS[model_of_interest])\n",
    "model.eval()"
   ]
  },
  {
   "cell_type": "code",
   "execution_count": 28,
   "metadata": {},
   "outputs": [],
   "source": [
    "# Load data as torch tensor and labels as numpy array\n",
    "\n",
    "data = np.load('../data/cifar-10.1/cifar10.1_v6_data.npy')\n",
    "data = np.transpose(data, (0,3,1,2))\n",
    "data = torch.Tensor(data)\n",
    "\n",
    "labels = np.load('../data/cifar-10.1/cifar10.1_v6_labels.npy')"
   ]
  },
  {
   "cell_type": "code",
   "execution_count": 29,
   "metadata": {},
   "outputs": [
    {
     "name": "stderr",
     "output_type": "stream",
     "text": [
      "100%|██████████| 2000/2000 [00:00<00:00, 2515.94it/s]\n"
     ]
    }
   ],
   "source": [
    "# Create softmax preds from model using above dataset\n",
    "if True:\n",
    "    preds = []\n",
    "    for i in tqdm(range(len(data))):\n",
    "        img = data[i]\n",
    "        img = img.unsqueeze(0)\n",
    "        softmax = torch.nn.Softmax(dim=1)\n",
    "        pred = softmax(model(img))\n",
    "        preds.append(pred.detach().numpy())\n",
    "\n",
    "    preds = np.array(preds).squeeze(axis=1)\n",
    "    preds.shape"
   ]
  },
  {
   "cell_type": "code",
   "execution_count": 30,
   "metadata": {},
   "outputs": [
    {
     "name": "stderr",
     "output_type": "stream",
     "text": [
      "100%|██████████| 2000/2000 [00:00<00:00, 2869.76it/s]\n"
     ]
    }
   ],
   "source": [
    "# Create Embedding generating Model\n",
    "if True:\n",
    "    embed_model = model\n",
    "    class Identity(torch.nn.Module):\n",
    "        def __init__(self):\n",
    "            super().__init__()\n",
    "\n",
    "        def forward(self, x):\n",
    "            return x\n",
    "    embed_model.linear = Identity()\n",
    "    \n",
    "if True:\n",
    "    embeds = []\n",
    "\n",
    "    for i in tqdm(range(len(data))):\n",
    "        img = data[i]\n",
    "        img = img.unsqueeze(0)\n",
    "        embedding = embed_model(img).detach().numpy().squeeze(0)\n",
    "        embeds.append(embedding)\n",
    "    embeds = np.array(embeds)\n",
    "    embeds.shape\n",
    "    \n",
    "if True:\n",
    "    save_path_embeds = '../../results/embeddings_cifar10-1/' + model_of_interest+ '.npy'\n",
    "    np.save(save_path_embeds, embeds)"
   ]
  },
  {
   "cell_type": "code",
   "execution_count": 31,
   "metadata": {},
   "outputs": [
    {
     "data": {
      "text/html": [
       "<div>\n",
       "<style scoped>\n",
       "    .dataframe tbody tr th:only-of-type {\n",
       "        vertical-align: middle;\n",
       "    }\n",
       "\n",
       "    .dataframe tbody tr th {\n",
       "        vertical-align: top;\n",
       "    }\n",
       "\n",
       "    .dataframe thead th {\n",
       "        text-align: right;\n",
       "    }\n",
       "</style>\n",
       "<table border=\"1\" class=\"dataframe\">\n",
       "  <thead>\n",
       "    <tr style=\"text-align: right;\">\n",
       "      <th></th>\n",
       "      <th>cutmix</th>\n",
       "      <th>baseline</th>\n",
       "      <th>mixup</th>\n",
       "      <th>cutout</th>\n",
       "    </tr>\n",
       "  </thead>\n",
       "  <tbody>\n",
       "    <tr>\n",
       "      <th>accuracy</th>\n",
       "      <td>0.294000</td>\n",
       "      <td>0.304500</td>\n",
       "      <td>0.314000</td>\n",
       "      <td>0.308500</td>\n",
       "    </tr>\n",
       "    <tr>\n",
       "      <th>precision</th>\n",
       "      <td>0.418800</td>\n",
       "      <td>0.418593</td>\n",
       "      <td>0.347085</td>\n",
       "      <td>0.436655</td>\n",
       "    </tr>\n",
       "    <tr>\n",
       "      <th>recall</th>\n",
       "      <td>0.294000</td>\n",
       "      <td>0.304500</td>\n",
       "      <td>0.314000</td>\n",
       "      <td>0.308500</td>\n",
       "    </tr>\n",
       "    <tr>\n",
       "      <th>f1-score</th>\n",
       "      <td>0.247246</td>\n",
       "      <td>0.274940</td>\n",
       "      <td>0.267271</td>\n",
       "      <td>0.278138</td>\n",
       "    </tr>\n",
       "  </tbody>\n",
       "</table>\n",
       "</div>"
      ],
      "text/plain": [
       "             cutmix  baseline     mixup    cutout\n",
       "accuracy   0.294000  0.304500  0.314000  0.308500\n",
       "precision  0.418800  0.418593  0.347085  0.436655\n",
       "recall     0.294000  0.304500  0.314000  0.308500\n",
       "f1-score   0.247246  0.274940  0.267271  0.278138"
      ]
     },
     "execution_count": 31,
     "metadata": {},
     "output_type": "execute_result"
    }
   ],
   "source": [
    "# Update existing Metrics Dictionary\n",
    "\n",
    "metrics = utils.find_metrics(preds, labels, False)\n",
    "metrics_df = metrics_dict.update({model_of_interest:\n",
    "    {\n",
    "        \"accuracy\": metrics[0],\n",
    "        \"precision\": metrics[1],\n",
    "        \"recall\": metrics[2],\n",
    "        \"f1-score\": metrics[3]\n",
    "    }})\n",
    "\n",
    "pd.DataFrame(metrics_dict)"
   ]
  },
  {
   "cell_type": "code",
   "execution_count": 32,
   "metadata": {},
   "outputs": [],
   "source": [
    "# Plot Confusion Matrix\n",
    "\n",
    "y_pred = np.argmax(preds, axis=1)\n",
    "y_true = labels\n",
    "conf_mat = cm(y_true, y_pred, normalize='true')"
   ]
  },
  {
   "cell_type": "code",
   "execution_count": 33,
   "metadata": {
    "scrolled": false
   },
   "outputs": [
    {
     "data": {
      "text/plain": [
       "[Text(0, 0.5, 'plane'),\n",
       " Text(0, 1.5, 'car'),\n",
       " Text(0, 2.5, 'bird'),\n",
       " Text(0, 3.5, 'cat'),\n",
       " Text(0, 4.5, 'deer'),\n",
       " Text(0, 5.5, 'dog'),\n",
       " Text(0, 6.5, 'frog'),\n",
       " Text(0, 7.5, 'horse'),\n",
       " Text(0, 8.5, 'ship'),\n",
       " Text(0, 9.5, 'truck')]"
      ]
     },
     "execution_count": 33,
     "metadata": {},
     "output_type": "execute_result"
    },
    {
     "data": {
      "image/png": "[encoded data removed]",
      "text/plain": [
       "<Figure size 720x576 with 2 Axes>"
      ]
     },
     "metadata": {
      "needs_background": "light"
     },
     "output_type": "display_data"
    }
   ],
   "source": [
    "fig = plt.figure(figsize=(10,8))\n",
    "ax = fig.add_subplot()\n",
    "sns.heatmap(conf_mat, annot=True, ax = ax); #annot=True to annotate cells\n",
    "\n",
    "# # labels, title and ticks\n",
    "ax.set_xlabel('Predicted labels')\n",
    "ax.set_ylabel('True labels')\n",
    "ax.set_title('Confusion Matrix - CIFAR-10.1')\n",
    "ax.xaxis.set_ticklabels(_CLASSES)\n",
    "ax.yaxis.set_ticklabels(_CLASSES)"
   ]
  },
  {
   "cell_type": "code",
   "execution_count": 34,
   "metadata": {},
   "outputs": [
    {
     "data": {
      "text/html": [
       "<div>\n",
       "<style scoped>\n",
       "    .dataframe tbody tr th:only-of-type {\n",
       "        vertical-align: middle;\n",
       "    }\n",
       "\n",
       "    .dataframe tbody tr th {\n",
       "        vertical-align: top;\n",
       "    }\n",
       "\n",
       "    .dataframe thead th {\n",
       "        text-align: right;\n",
       "    }\n",
       "</style>\n",
       "<table border=\"1\" class=\"dataframe\">\n",
       "  <thead>\n",
       "    <tr style=\"text-align: right;\">\n",
       "      <th></th>\n",
       "      <th>cutmix</th>\n",
       "      <th>baseline</th>\n",
       "      <th>mixup</th>\n",
       "      <th>cutout</th>\n",
       "    </tr>\n",
       "  </thead>\n",
       "  <tbody>\n",
       "    <tr>\n",
       "      <th>accuracy</th>\n",
       "      <td>0.294000</td>\n",
       "      <td>0.304500</td>\n",
       "      <td>0.314000</td>\n",
       "      <td>0.308500</td>\n",
       "    </tr>\n",
       "    <tr>\n",
       "      <th>precision</th>\n",
       "      <td>0.418800</td>\n",
       "      <td>0.418593</td>\n",
       "      <td>0.347085</td>\n",
       "      <td>0.436655</td>\n",
       "    </tr>\n",
       "    <tr>\n",
       "      <th>recall</th>\n",
       "      <td>0.294000</td>\n",
       "      <td>0.304500</td>\n",
       "      <td>0.314000</td>\n",
       "      <td>0.308500</td>\n",
       "    </tr>\n",
       "    <tr>\n",
       "      <th>f1-score</th>\n",
       "      <td>0.247246</td>\n",
       "      <td>0.274940</td>\n",
       "      <td>0.267271</td>\n",
       "      <td>0.278138</td>\n",
       "    </tr>\n",
       "  </tbody>\n",
       "</table>\n",
       "</div>"
      ],
      "text/plain": [
       "             cutmix  baseline     mixup    cutout\n",
       "accuracy   0.294000  0.304500  0.314000  0.308500\n",
       "precision  0.418800  0.418593  0.347085  0.436655\n",
       "recall     0.294000  0.304500  0.314000  0.308500\n",
       "f1-score   0.247246  0.274940  0.267271  0.278138"
      ]
     },
     "execution_count": 34,
     "metadata": {},
     "output_type": "execute_result"
    }
   ],
   "source": [
    "pd.DataFrame(metrics_dict)"
   ]
  },
  {
   "cell_type": "code",
   "execution_count": 10,
   "metadata": {},
   "outputs": [],
   "source": [
    "METRICS_STUDENT_DICT = {\n",
    "    \"cutout\":{\n",
    "        \"accuracy\": 0.644200,\n",
    "        \"precision\": 0.643208,\n",
    "        \"recall\": 0.644200,\n",
    "        \"f1-score\": 0.643570,\n",
    "        \"kl-divergence\":0,\n",
    "    },\n",
    "    \"baseline\": {\n",
    "        \"accuracy\": 0.304500,\n",
    "        \"precision\": 0.418593,\n",
    "        \"recall\": 0.304500,\n",
    "        \"f1-score\": 0.274940,\n",
    "    },\n",
    "     \"mixup\": {\n",
    "        \"accuracy\": 0.314000,\n",
    "        \"precision\": 0.347085,\n",
    "        \"recall\": 0.314000,\n",
    "        \"f1-score\": 0.267271,\n",
    "     },\n",
    "     \"cutmix\": {\n",
    "        \"accuracy\": 0.294000,\n",
    "        \"precision\": 0.418800,\n",
    "        \"recall\": 0.294000,\n",
    "        \"f1-score\": 0.247246,\n",
    "     },\n",
    "     \"cutout\": {\n",
    "        \"accuracy\": 0.308500,\n",
    "        \"precision\": 0.436655,\n",
    "        \"recall\": 0.308500,\n",
    "        \"f1-score\": 0.278138,\n",
    "     },\n",
    "     \"augmented\": {}\n",
    "}\n"
   ]
  },
  {
   "cell_type": "code",
   "execution_count": null,
   "metadata": {},
   "outputs": [],
   "source": []
  }
 ],
 "metadata": {
  "kernelspec": {
   "display_name": "Python 3",
   "language": "python",
   "name": "python3"
  },
  "language_info": {
   "codemirror_mode": {
    "name": "ipython",
    "version": 3
   },
   "file_extension": ".py",
   "mimetype": "text/x-python",
   "name": "python",
   "nbconvert_exporter": "python",
   "pygments_lexer": "ipython3",
   "version": "3.7.4"
  }
 },
 "nbformat": 4,
 "nbformat_minor": 2
}
