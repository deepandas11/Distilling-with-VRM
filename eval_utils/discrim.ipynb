{
 "cells": [
  {
   "cell_type": "code",
   "execution_count": 1,
   "metadata": {},
   "outputs": [],
   "source": [
    "import torch\n",
    "from PIL import Image\n",
    "import numpy as np\n",
    "import pandas as pd\n",
    "import torch\n",
    "import os\n",
    "import sys\n",
    "from torch.utils import data\n",
    "from sklearn.metrics import confusion_matrix as cm\n",
    "import seaborn as sns\n",
    "import matplotlib.pyplot as plt\n",
    "from tqdm import tqdm\n",
    "sys.path.append('../')\n",
    "from scipy.spatial import distance\n",
    "\n",
    "from utils import utils, model_fetch, dataloader\n",
    "metrics_dict = {}\n",
    "gdv_table = {\n",
    "    \"class-discrimination\": {},\n",
    "    \"intra-class\": {},\n",
    "    \"inter-class\": {}\n",
    "}\n",
    "%load_ext autoreload\n",
    "%autoreload 2\n",
    "%matplotlib inline"
   ]
  },
  {
   "cell_type": "code",
   "execution_count": 2,
   "metadata": {},
   "outputs": [],
   "source": [
    "# Loading both test sets - CIFAR and CIFAR - 10H -- Images are same.\n",
    "\n",
    "def unpickle(file):\n",
    "    import pickle\n",
    "    with open(file, 'rb') as fo:\n",
    "        dict = pickle.load(fo, encoding='bytes')\n",
    "    return dict\n",
    "\n",
    "\n",
    "# CIFAR Data\n",
    "file_path = '../data/data-cifar-10/cifar-10-batches-py/test_batch'\n",
    "label_dict = unpickle(file_path)\n",
    "\n",
    "# Labels for both data\n",
    "cifar_labels = label_dict[b'labels'] \n",
    "\n",
    "# print(label_dict.keys())"
   ]
  },
  {
   "cell_type": "code",
   "execution_count": 3,
   "metadata": {},
   "outputs": [],
   "source": [
    "def get_model(model_of_interest):\n",
    "\n",
    "    if True:\n",
    "        preds_path =  '../../results/preds/' +model_of_interest+ '.npy'\n",
    "        preds = np.load(preds_path)\n",
    "        pred_classes = np.argmax(preds, 1)\n",
    "\n",
    "        embeds_path =  '../../results/embeddings/' +model_of_interest+ '.npy'\n",
    "        embeds = np.load(embeds_path)\n",
    "        \n",
    "    return preds, pred_classes, embeds\n",
    "\n",
    "def z_scoring(preds):\n",
    "    return 0.5 * (preds - np.mean(preds, 0)) / np.std(preds, 0)\n",
    "\n",
    "\n",
    "def bucketize_class(preds, pred_classes):\n",
    "    bucket = {}\n",
    "    for i in range(len(preds)):\n",
    "        if pred_classes[i] not in bucket:\n",
    "            bucket[pred_classes[i]] = []\n",
    "        bucket[pred_classes[i]].append(preds[i])\n",
    "        \n",
    "    return bucket\n",
    "\n"
   ]
  },
  {
   "cell_type": "code",
   "execution_count": 4,
   "metadata": {},
   "outputs": [],
   "source": [
    "def dist_func(a, b):\n",
    "    return np.dot(a, b) / (np.sqrt(a.dot(a)) * np.sqrt(b.dot(b)))\n",
    "\n",
    "def intra_class(class_bucket):\n",
    "    class_dist = 0\n",
    "    for i in range(len(class_bucket) - 1):\n",
    "        for j in range(i, len(class_bucket)):\n",
    "            class_dist += dist_func(class_bucket[i], class_bucket[j])\n",
    "    class_dist /= (len(class_bucket)*(len(class_bucket) - 1))\n",
    "    class_dist *= 2\n",
    "    \n",
    "    return class_dist\n",
    "            "
   ]
  },
  {
   "cell_type": "code",
   "execution_count": 5,
   "metadata": {},
   "outputs": [],
   "source": [
    "def inter_class(class_bucket1, class_bucket2):\n",
    "    class_dist = 0\n",
    "    for i in range(len(class_bucket1)):\n",
    "        for j in range(i+1, len(class_bucket2)):\n",
    "            class_dist += dist_func(class_bucket1[i],class_bucket2[j])\n",
    "    class_dist /= (len(class_bucket1) * len(class_bucket2))\n",
    "    return class_dist"
   ]
  },
  {
   "cell_type": "code",
   "execution_count": 18,
   "metadata": {},
   "outputs": [
    {
     "name": "stderr",
     "output_type": "stream",
     "text": [
      "100%|██████████| 10/10 [00:20<00:00,  2.03s/it]\n"
     ]
    }
   ],
   "source": [
    "model_of_interest = \"baseline\"\n",
    "\n",
    "preds, pred_classes, _ = get_model(model_of_interest)\n",
    "z_embeds = z_scoring(preds)\n",
    "bucket = bucketize_class(z_embeds, cifar_labels)\n",
    "dim = preds.shape[1]\n",
    "\n",
    "intra_class_dist = {}\n",
    "for class_label in tqdm(bucket):\n",
    "    intra_class_dist[class_label] = intra_class(bucket[class_label])"
   ]
  },
  {
   "cell_type": "code",
   "execution_count": 19,
   "metadata": {},
   "outputs": [
    {
     "name": "stderr",
     "output_type": "stream",
     "text": [
      "100%|██████████| 9/9 [01:54<00:00, 12.73s/it]\n"
     ]
    }
   ],
   "source": [
    "num_classes = len(list(set(pred_classes)))\n",
    "term1 = sum(list(intra_class_dist.values()))/num_classes\n",
    "\n",
    "term2 = 0\n",
    "classes = sorted(list(bucket.keys()))\n",
    "for i in tqdm(range(len(classes) - 1)):\n",
    "    for j in range(i+1, len(classes)):\n",
    "        term2 += inter_class(bucket[i], bucket[j])\n",
    "term2 /= (num_classes*(num_classes-1))\n",
    "term2 *= 2   \n",
    "\n",
    "gdv = 1/(dim**0.5) * (term1 - term2)"
   ]
  },
  {
   "cell_type": "code",
   "execution_count": 20,
   "metadata": {},
   "outputs": [
    {
     "data": {
      "text/html": [
       "<div>\n",
       "<style scoped>\n",
       "    .dataframe tbody tr th:only-of-type {\n",
       "        vertical-align: middle;\n",
       "    }\n",
       "\n",
       "    .dataframe tbody tr th {\n",
       "        vertical-align: top;\n",
       "    }\n",
       "\n",
       "    .dataframe thead th {\n",
       "        text-align: right;\n",
       "    }\n",
       "</style>\n",
       "<table border=\"1\" class=\"dataframe\">\n",
       "  <thead>\n",
       "    <tr style=\"text-align: right;\">\n",
       "      <th></th>\n",
       "      <th>class-discrimination</th>\n",
       "      <th>intra-class</th>\n",
       "      <th>inter-class</th>\n",
       "    </tr>\n",
       "  </thead>\n",
       "  <tbody>\n",
       "    <tr>\n",
       "      <th>mixup</th>\n",
       "      <td>0.160580</td>\n",
       "      <td>0.481783</td>\n",
       "      <td>-0.026016</td>\n",
       "    </tr>\n",
       "    <tr>\n",
       "      <th>cutmix</th>\n",
       "      <td>0.154048</td>\n",
       "      <td>0.462170</td>\n",
       "      <td>-0.024972</td>\n",
       "    </tr>\n",
       "    <tr>\n",
       "      <th>cutout</th>\n",
       "      <td>0.158004</td>\n",
       "      <td>0.473913</td>\n",
       "      <td>-0.025740</td>\n",
       "    </tr>\n",
       "    <tr>\n",
       "      <th>augmented</th>\n",
       "      <td>0.155214</td>\n",
       "      <td>0.465740</td>\n",
       "      <td>-0.025091</td>\n",
       "    </tr>\n",
       "    <tr>\n",
       "      <th>baseline</th>\n",
       "      <td>0.161022</td>\n",
       "      <td>0.482504</td>\n",
       "      <td>-0.026693</td>\n",
       "    </tr>\n",
       "  </tbody>\n",
       "</table>\n",
       "</div>"
      ],
      "text/plain": [
       "           class-discrimination  intra-class  inter-class\n",
       "mixup                  0.160580     0.481783    -0.026016\n",
       "cutmix                 0.154048     0.462170    -0.024972\n",
       "cutout                 0.158004     0.473913    -0.025740\n",
       "augmented              0.155214     0.465740    -0.025091\n",
       "baseline               0.161022     0.482504    -0.026693"
      ]
     },
     "execution_count": 20,
     "metadata": {},
     "output_type": "execute_result"
    }
   ],
   "source": [
    "gdv_table[\"class-discrimination\"].update({model_of_interest: gdv})\n",
    "gdv_table[\"intra-class\"].update({model_of_interest: term1})\n",
    "gdv_table[\"inter-class\"].update({model_of_interest: term2})\n",
    "\n",
    "pd.DataFrame(gdv_table)"
   ]
  },
  {
   "cell_type": "code",
   "execution_count": null,
   "metadata": {},
   "outputs": [],
   "source": []
  },
  {
   "cell_type": "code",
   "execution_count": null,
   "metadata": {},
   "outputs": [],
   "source": []
  }
 ],
 "metadata": {
  "kernelspec": {
   "display_name": "Python 3",
   "language": "python",
   "name": "python3"
  },
  "language_info": {
   "codemirror_mode": {
    "name": "ipython",
    "version": 3
   },
   "file_extension": ".py",
   "mimetype": "text/x-python",
   "name": "python",
   "nbconvert_exporter": "python",
   "pygments_lexer": "ipython3",
   "version": "3.7.4"
  }
 },
 "nbformat": 4,
 "nbformat_minor": 2
}
