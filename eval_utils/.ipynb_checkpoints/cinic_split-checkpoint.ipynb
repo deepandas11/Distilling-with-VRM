{
 "cells": [
  {
   "cell_type": "markdown",
   "metadata": {},
   "source": [
    "## Extracting ImageNet Images from CINIC-10 Test Set\n",
    "\n",
    "https://github.com/BayesWatch/cinic-10/blob/master/notebooks/imagenet-extraction.ipynb\n"
   ]
  },
  {
   "cell_type": "code",
   "execution_count": 1,
   "metadata": {},
   "outputs": [],
   "source": [
    "import os\n",
    "import glob\n",
    "import numpy as np\n",
    "from shutil import copyfile\n",
    "symlink = True    # If this is false the files are copied instead\n",
    "combine_train_valid = False   "
   ]
  },
  {
   "cell_type": "code",
   "execution_count": 7,
   "metadata": {},
   "outputs": [],
   "source": [
    "cinic_directory = \"../data/CINIC-10/\"\n",
    "imagenet_directory = \"../data/cinic-10-imagenet\"\n",
    "cifar_directory = \"../data/cinic-10-cifar\"\n",
    "directories = [imagenet_directory, cifar_directory]\n",
    "classes = [\"airplane\", \"automobile\", \"bird\", \"cat\", \"deer\", \"dog\", \"frog\", \"horse\", \"ship\", \"truck\"]\n",
    "sets = ['test']\n",
    "\n",
    "\n",
    "if not os.path.exists(imagenet_directory):\n",
    "    os.makedirs(imagenet_directory)\n",
    "# if not os.path.exists(imagenet_directory + '/train'):\n",
    "#     os.makedirs(imagenet_directory + '/train')\n",
    "if not os.path.exists(imagenet_directory + '/test'):\n",
    "    os.makedirs(imagenet_directory + '/test')\n",
    "    \n",
    "for c in classes:\n",
    "#     if not os.path.exists('{}/train/{}'.format(imagenet_directory, c)):\n",
    "#         os.makedirs('{}/train/{}'.format(imagenet_directory, c))\n",
    "    if not os.path.exists('{}/test/{}'.format(imagenet_directory, c)):\n",
    "        os.makedirs('{}/test/{}'.format(imagenet_directory, c))\n",
    "#     if not combine_train_valid:\n",
    "#         if not os.path.exists('{}/valid/{}'.format(imagenet_directory, c)):\n",
    "#             os.makedirs('{}/valid/{}'.format(imagenet_directory, c))"
   ]
  },
  {
   "cell_type": "code",
   "execution_count": 10,
   "metadata": {},
   "outputs": [],
   "source": [
    "for s in sets:\n",
    "    for c in classes:\n",
    "        source_directory = '{}/{}/{}'.format(cinic_directory, s, c)\n",
    "        filenames = glob.glob('{}/*.png'.format(source_directory))\n",
    "#         print(filenames)\n",
    "        for fn in filenames:\n",
    "            dest_fn = fn.split('/')[-1]\n",
    "#             if (s == 'train' or s == 'valid') and combine_train_valid and 'cifar' not in fn.split('/')[-1]:\n",
    "#                 dest_fn = '{}/train/{}/{}'.format(imagenet_directory, c, dest_fn)\n",
    "#                 if symlink:\n",
    "#                     if not os.path.islink(dest_fn):\n",
    "#                         os.symlink(fn, dest_fn)\n",
    "#                 else:\n",
    "#                     copyfile(fn, dest_fn)\n",
    "                \n",
    "#             elif (s == 'train') and 'cifar' not in fn.split('/')[-1]:\n",
    "#                 dest_fn = '{}/train/{}/{}'.format(imagenet_directory, c, dest_fn)\n",
    "#                 if symlink:\n",
    "#                     if not os.path.islink(dest_fn):\n",
    "#                         os.symlink(fn, dest_fn)\n",
    "#                 else:\n",
    "#                     copyfile(fn, dest_fn)\n",
    "                    \n",
    "#             elif (s == 'valid') and 'cifar' not in fn.split('/')[-1]:\n",
    "#                 dest_fn = '{}/valid/{}/{}'.format(imagenet_directory, c, dest_fn)\n",
    "#                 if symlink:\n",
    "#                     if not os.path.islink(dest_fn):\n",
    "#                         os.symlink(fn, dest_fn)\n",
    "#                 else:\n",
    "#                     copyfile(fn, dest_fn)\n",
    "            \n",
    "    \n",
    "#             print(fn)\n",
    "            if s == 'test' and 'cifar' not in fn.split('/')[-1]:\n",
    "                dest_fn = '{}/test/{}/{}'.format(imagenet_directory, c, dest_fn)\n",
    "                if symlink:\n",
    "                    if not os.path.islink(dest_fn):\n",
    "                        os.symlink(fn, dest_fn)\n",
    "                else:\n",
    "                    copyfile(fn, dest_fn)"
   ]
  },
  {
   "cell_type": "code",
   "execution_count": null,
   "metadata": {},
   "outputs": [],
   "source": []
  }
 ],
 "metadata": {
  "kernelspec": {
   "display_name": "Python 3",
   "language": "python",
   "name": "python3"
  },
  "language_info": {
   "codemirror_mode": {
    "name": "ipython",
    "version": 3
   },
   "file_extension": ".py",
   "mimetype": "text/x-python",
   "name": "python",
   "nbconvert_exporter": "python",
   "pygments_lexer": "ipython3",
   "version": "3.7.4"
  }
 },
 "nbformat": 4,
 "nbformat_minor": 2
}
